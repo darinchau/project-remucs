{
 "cells": [
  {
   "cell_type": "markdown",
   "metadata": {},
   "source": [
    "This script contains utility code to clean up certain things"
   ]
  },
  {
   "cell_type": "code",
   "execution_count": null,
   "metadata": {},
   "outputs": [],
   "source": [
    "# Cleans up spectro dataset - removes all .spec files that does not contain any valid data\n",
    "from remucs.util import SpectrogramCollection\n",
    "import os\n",
    "from tqdm.auto import tqdm\n",
    "from scripts.calculate import DATASET_PATH\n",
    "from remucs.dataset import get_valid_bar_numbers\n",
    "\n",
    "deletable = []\n",
    "for file in tqdm(os.listdir(DATASET_PATH), desc=\"Checking files...\"):\n",
    "    if file.endswith(\".spec.zip\"):\n",
    "        try:\n",
    "            spec = SpectrogramCollection.load(os.path.join(DATASET_PATH, file))\n",
    "            valids = get_valid_bar_numbers(list(spec.spectrograms.keys()))\n",
    "            if len(valids) == 0:\n",
    "                deletable.append(file)\n",
    "        except Exception as e:\n",
    "            print(f\"Error loading {file}: {e}\")\n",
    "            deletable.append(file)\n",
    "\n",
    "# Removes the files\n",
    "for line in deletable:\n",
    "    os.remove(os.path.join(DATASET_PATH, line.strip()))"
   ]
  },
  {
   "cell_type": "code",
   "execution_count": null,
   "metadata": {},
   "outputs": [],
   "source": [
    "# Some spectrograms have a peculiar white border, remove those data points\n",
    "from remucs.util import SpectrogramCollection\n",
    "import os\n",
    "from tqdm.auto import tqdm\n",
    "import torch\n",
    "\n",
    "SPECTROGRAM_SAVE_PATH = r\"D:\\Repository\\project-remucs\\audio-infos-v3\\test_specs\"\n",
    "\n",
    "for file in tqdm(os.listdir(SPECTROGRAM_SAVE_PATH), desc=\"Checking files...\"):\n",
    "    if file.endswith(\".spec.zip\"):\n",
    "        try:\n",
    "            modified = False\n",
    "            specs = SpectrogramCollection.load(os.path.join(SPECTROGRAM_SAVE_PATH, file))\n",
    "            s = list(specs.spectrograms.keys())\n",
    "            for part, bar in s:\n",
    "                spec = specs.get_spectrogram(part, bar)\n",
    "                if spec is not None:\n",
    "                    # Check if there is any row of 1s\n",
    "                    if torch.any(torch.all(spec == 0, dim = -1)).item():\n",
    "                        specs.spectrograms.pop((part, bar))\n",
    "                        modified = True\n",
    "            if modified:\n",
    "                specs.save(os.path.join(SPECTROGRAM_SAVE_PATH, file))\n",
    "        except Exception as e:\n",
    "            print(f\"Error loading {file}: {e}\")"
   ]
  }
 ],
 "metadata": {
  "kernelspec": {
   "display_name": ".venv",
   "language": "python",
   "name": "python3"
  },
  "language_info": {
   "codemirror_mode": {
    "name": "ipython",
    "version": 3
   },
   "file_extension": ".py",
   "mimetype": "text/x-python",
   "name": "python",
   "nbconvert_exporter": "python",
   "pygments_lexer": "ipython3",
   "version": "3.12.4"
  }
 },
 "nbformat": 4,
 "nbformat_minor": 2
}
